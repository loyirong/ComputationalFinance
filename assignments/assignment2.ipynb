{
 "cells": [
  {
   "cell_type": "markdown",
   "metadata": {},
   "source": [
    "# Assignment 2\n",
    "\n",
    "**Deadline**:  December 11th, 11.59pm. Please submit your answers to [Rutger Poldermans](mailto:R.W.Poldermans@uva.nl).  \n",
    "\n",
    "****NOTES****:\n",
    "* This is an individual assignment. Teamwork is **not** permitted, including during lab sessions.\n",
    "* The assignment is a partial stand-in for a final examination, so the usual rules regarding plagiarism and fraud apply, with all attendant consequences. Code found on the internet or elsewhere is not acceptable as a solution.\n",
    "* Efficient code is required for full marks.\n",
    "* Before submitting your work, **click on `Kernel`-> `Restart & Run All`** and verify that your notebook produces the desired results and does not error.\n",
    "* Some questions require you to write code to obtain a numerical result (e.g., an option price). In that case, don't just give the function, but also the result of calling it with the given parameter values (i.e., the numerial value that it returns). If your function uses random numbers, then set the seed to 0 before calling it. This makes it much easier to grade the assignments (at least as long as the answer is correct).\n",
    "\n",
    "\n",
    "|  |**Name**|**Student ID**|**Email**|\n",
    "|:-|:-------|:-------------|:--------|\n",
    "|1.|        |              |         |\n",
    "\n",
    "**Declaration of Originality**:\n",
    "\n",
    "By submitting these answers, I declare that\n",
    "1. I have read and understood the notes above.\n",
    "2. These solutions are solely my own work.\n",
    "3. I have not made these solutions available to any other student."
   ]
  },
  {
   "cell_type": "markdown",
   "metadata": {},
   "source": [
    "**Question A**:\n",
    "Consider an $N$-period model with two assets: a riskless bond with value $B_t=e^{rt}$, and a stock that evolves according to a binomial tree, such that $S_t=S_{t-\\delta t}u$ or $S_t=S_{t-\\delta t}d$ in the good and bad states of the world, respectively. Here $u=1/d=\\exp(\\sigma\\sqrt{\\delta t})$ and $\\delta t= T/N$ as usual. We would like to price a *chooser* option, which has the property that, after $M<N$ periods, the holder can choose whether the option is a European call or put option, both maturing after $N$ periods, and with the same strike price $K$. Denoting their prices after $i$ periods as $C_{i}$ and $P_{i}$, respectively, the payoff of the chooser option after $M$ periods is $V_{M}=\\max \\{C_{M},P_{M}\\}\\,$. Our starting point is the function `calltree` (or `calltree_numpy`) from Week 4. **For each of the following subquestions, your answer should include the function itself, as well as the result of calling it with the following parameter values**: $S_0 = 8$, $K = 10$, $T = 3/12$, $r = 0.02$, $\\sigma = 0.3$, $\\delta = 0.01$, $N = 500$, $M=300$.\n",
    "\n",
    " 1. We want to allow for a dividend yield, $\\delta$. Modify `calltree` (or `calltree_numpy`) to accept an additional input argument `delta`, and change the risk-neutral probability to $(e^{(r-\\delta)\\delta t}-d)/(u-d)$.\n",
    " * Make a function `chooser(S0, K, T, r, sigma, delta, N, M)` that prices a European chooser option, by modifying your function from the previous question such that along with the call price tree, it computes a put price tree as well, and stores it in a matrix `P` (of the same size as the call price matrix). Then, create an $(M+1)\\times (M+1)$ matrix `CH` to store the tree for the chooser option, populate its last column with $V_M$, and perform backwards induction.\n",
    " * Now consider a chooser option for which after $M$ periods, the holder will choose between an *American* call or put. Write a function `chooser_american(S0, K, T, r, sigma, delta, N, M)` that evaluates its price.\n",
    " * Finally, we also allow early exercise of the chooser option itself: the owner can now also exercise *before* period $M$, in which case he immediately receives the American put or call. Write a function `chooser_american2(S0, K, T, r, sigma, delta, N, M)` that evaluates its price.\n",
    "\n"
   ]
  },
  {
   "cell_type": "markdown",
   "metadata": {},
   "source": [
    "**Question B**:\n",
    "\n",
    "We wish to obtain the no-arbitrage price $X_{0}$ of an index-linked certificate. The derivative has payoff $X_{T}$, defined from the path of an equity index $\\{S_{t}\\}_{0\\leq t\\leq T}$ as follows:\n",
    "$$\n",
    "X_{T}=S_{0}\\prod\\nolimits_{t=1}^{T}(1+\\max (R_{t},R)),\\qquad R_{t}=\\frac{S_{t}-S_{t-1}}{S_{t-1}},\\qquad R=e^{r}-1,\n",
    "$$\n",
    "where $r\\equiv \\log (1+R)$ is the continuously compounded interest rate, so that $R$ is the corresponding annually compounded interest rate. Time is measured in years, and $T$ is a positive integer, representing the number of years after which the payoff is received. The idea behind this derivative is that the investor participates in the upside potential of the stock market, but receives a guaranteed minimum return. The value $X_{0}$ of this product cannot be evaluated analytically. \n",
    "\n",
    "We assume a Black-Scholes economy and use the following parameter values: $S_0=11$, $T=10$, $R=0.02$, $\\sigma =0.3$, and $\\delta =0.01$. \n",
    "    \n",
    "  1. Using `asianmc` or `asianmc_vec` as a starting point, write a function `certificatemc(S0, R, T, sigma, delta, numsim=10000)` that returns the Monte Carlo estimate of $X_{0}$, along with a 95% confidence interval. **Both the interval and the CI should be stated explicitly in your answers, based on a random seed of 0**.\n",
    "\n",
    "  * Consider a second derivative with payoff $F_{T}=\\max (S_{0}(1+R)^{T},S_{T})$. Show (with pen and paper, or preferably inside the notebook using Markdown and $\\LaTeX$) that the no-arbitrage price $F_{0}$ is\n",
    "$$  \n",
    "F_{0}=S_{0}(1+e^{-\\delta T}\\Phi (d_{1})-\\Phi (d_{2})),\n",
    "$$\n",
    "where\n",
    "$$\n",
    "d_{1}=\\frac{(-\\delta +\\frac{1}{2}\\sigma ^{2})T}{\\sigma \\sqrt{T}},\\qquad\n",
    "d_{2}=d_{1}-\\sigma \\sqrt{T}=\\frac{(-\\delta -\\frac{1}{2}\\sigma ^{2})T}{\\sigma\n",
    "\\sqrt{T}}, \n",
    "$$\n",
    "and write a function `F0(S0, R, T, sigma, delta)` that evaluates this. **The resulting value for the given parameter values should be given explicitly in your answer**.\n",
    "Hint: The payoff $F_T$ can be replicated with a position in cash bonds and a certain European call option.\n",
    "\n",
    "  * Write a function `certificatecv(S0, R, T, sigma, delta, numsim=10000)` that improves upon your code from the previous question by using $F_{T}$ as a control variate.\n",
    "**Report the improved estimate $\\hat{X}_{0}$ along with an apropriately constructed confidence interval, based on a random seed of 0.** Then, compare the CI with the one based on the crude MC estimate, and discuss your findings; are they in line with the theory? Has the computational cost increased?\n",
    "\n",
    "  * Test if the confidence interval returned by `certificatecv` has correct coverage, by simulating 1000 independent ones (with `numsim=1000`), and recording in a hit series $I_j$, $j\\in\\{1, \\ldots, 1000\\}$, whether an interval contains the true price ($I_j=1$) or not ($I_j=0$). The test can be conducted by regressing $\\{I_j-0.95\\}_{j=1}^{1000}$ on an intercept and testing whether that is zero. The 'true' price should be obtained from `certificatecv` with `numsim=100000`."
   ]
  }
 ],
 "metadata": {
  "kernelspec": {
   "display_name": "Python 2",
   "language": "python",
   "name": "python2"
  },
  "language_info": {
   "codemirror_mode": {
    "name": "ipython",
    "version": 2
   },
   "file_extension": ".py",
   "mimetype": "text/x-python",
   "name": "python",
   "nbconvert_exporter": "python",
   "pygments_lexer": "ipython2",
   "version": "2.7.14"
  }
 },
 "nbformat": 4,
 "nbformat_minor": 2
}
