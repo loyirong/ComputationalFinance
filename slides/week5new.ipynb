{
 "cells": [
  {
   "cell_type": "markdown",
   "metadata": {
    "slideshow": {
     "slide_type": "slide"
    }
   },
   "source": [
    "<p style=\"text-align: center; font-size: 300%\"> Computational Finance </p>\n",
    "<img src=\"img/ABSlogo.svg\" alt=\"LOGO\" style=\"display:block; margin-left: auto; margin-right: auto; width: 50%;\">"
   ]
  },
  {
   "cell_type": "markdown",
   "metadata": {
    "slideshow": {
     "slide_type": "slide"
    }
   },
   "source": [
    "# Monte Carlo Methods\n",
    "## Brownian Motion\n",
    "* We saw last week that the binomial tree implies for $X_t\\equiv \\log S_t$ that\n",
    "$$\n",
    "X_{i\\delta t}=X_{(i-1)\\delta t}+R_i \\Longleftrightarrow\n",
    "\\delta X_{t} = R_i,\\tag{$\\dagger$}\n",
    "$$\n",
    "where $R_i=\\log u$ or $R_i=\\log d$, with probabilities $\\mathbb{Q}[u]$ and $\\mathbb{Q}[d]$. \n",
    "* Equation ($\\dagger$) is a *stochastic difference equation*.\n",
    "* Its *solution* \n",
    "$$\n",
    "X_T=\\log S_0 +\\sum_{i=1}^N R_i=\\log S_0 +\\sigma \\sqrt{\\delta t}(2k-N)\n",
    "$$\n",
    "is called a *binomial process*, or in the special case with\n",
    "$\\mathbb{E}[R_i]=0$, a *random walk*.\n"
   ]
  },
  {
   "cell_type": "markdown",
   "metadata": {
    "slideshow": {
     "slide_type": "slide"
    }
   },
   "source": [
    "* We also saw that if we let $N\\rightarrow\\infty$ (so that $\\delta t \\rightarrow 0$),\n",
    "$$\n",
    "X_T-X_0\\stackrel{d}{\\rightarrow}N(\\mu T,\\sigma^2 T),\\quad \\mu\\equiv r-\\frac{1}{2}\\sigma^2.\n",
    "$$\n",
    "* The argument can be repeated for every $X_t, t\\leq T$, showing that\n",
    "$$\n",
    "X_t-X_0\\stackrel{d}{\\rightarrow}N(\\mu t,\\sigma^2 t),\n",
    "$$\n",
    "and that for any $0\\lt t\\lt T$, $X_t-X_0$ and $X_T-X_t$ are independent.\n",
    "* As $\\delta t\\rightarrow 0$, $\\{X_t\\}_{t\\geq 0}$ becomes a continuous time process: the indexing set is now given by the entire positive real line.\n",
    "* This continuous time limit (with $\\mu=0$ and $\\sigma^2=1$) is called *Brownian motion*, or *Wiener process*.\n",
    "* From now on, rather than modelling in discrete time and then letting $\\delta t \\rightarrow 0$, we will directly model in continuous time, using Brownian motion as a building block."
   ]
  },
  {
   "cell_type": "markdown",
   "metadata": {
    "slideshow": {
     "slide_type": "slide"
    }
   },
   "source": [
    "\n",
    "* Definition of (standard) *Brownian Motion*:\n",
    "Stochastic process $\\{W_{t}\\}_{t\\geq 0}$ satisfying\n",
    "  * $W_{0}=0$;\n",
    "  * The increments $W_{t} - W_s$ are independent for all $0 \\le s < t$;\n",
    "  * $W_{t} - W_s \\sim N(0,t-s)$ for all $0 \\le s \\le t$;\n",
    "  * Continuous sample paths."
   ]
  },
  {
   "cell_type": "markdown",
   "metadata": {
    "slideshow": {
     "slide_type": "slide"
    }
   },
   "source": [
    "\n",
    "* Properties of Brownian Sample Paths:\n",
    "  * *Continuity*: by assumption, and also $W_{t+\\delta t}-W_{t}\\sim N(0,\\delta t)\\rightarrow 0$ as $\\delta t\\downarrow0$;\n",
    "  * *Nowhere differentiability*: intuitively, this is seen from\n",
    "$$\n",
    "\\frac{W_{t}-W_{t-\\delta t}}{\\delta t}\\sim N\\left( 0,\\frac{1}{\\delta t}\\right) ,\\quad \\frac{%\n",
    "W_{t+\\delta t}-W_{t}}{\\delta t}\\sim N\\left( 0,\\frac{1}{\\delta t}\\right) ;\n",
    "$$\n",
    "left and right difference quotients do not have (common) limit as $\\delta t\\downarrow 0$.\n",
    "  * *Self-similarity*: Zooming in on a Brownian motion yields another Brownian motion: for any $c>0$, $X_{t}=\\sqrt{c}W_{t/c}$ is\n",
    "a Brownian motion.\n",
    "\n"
   ]
  },
  {
   "cell_type": "markdown",
   "metadata": {
    "slideshow": {
     "slide_type": "slide"
    }
   },
   "source": [
    "## Simulating Brownian Motion\n",
    "* In order to simulate Brownian Motion, we need to discretize it. As usual, split the time interval $[0,T]$ into $N$ parts of length $\\delta t=T/N$ and let $t_{i}=i\\delta t$, $i=0,\\ldots ,N$, so that $t_{0}=0$ and $t_{N}=T$.\n",
    "* As in ($\\dagger$), let \n",
    "$$\n",
    "W_{i\\delta t}=W_{(i-1)\\delta t}+R_i \\Longleftrightarrow \\delta W_{t} = R_{i},\n",
    "$$\n",
    "but where now we model $R_{t_i}$ as normally distributed instead of binomially: \n",
    "$$\n",
    "R_{t_i}=\\sqrt{\\delta t}\\cdot Z_i,\\quad Z_i\\sim\\mathrm{N}(0, 1).\n",
    "$$\n",
    "* As a slight generalization, *Brownian motion with drift* is obtained from\n",
    "$$\n",
    "\\delta X_i = \\mu\\delta t+\\sigma\\delta W_{t}=\\mu\\delta t+\\sigma\\sqrt{\\delta t} Z_i,\n",
    "$$\n",
    "and where we allow $X_0$ to be an arbitrary value.\n",
    "* This implies\n",
    "$$\n",
    "X_t\\equiv X_0+\\mu t +\\sigma W_t,\n",
    "$$\n",
    "so that $\\mathbb{E}[X_t]=X_{0}+\\mu t$, $\\mathrm{Var}[X_t]=\\sigma^{2}t$. Hence the average upwards (or downwards if $\\mu<0$) tendency over a time interval $\\delta t$ is $\\mu \\delta t$."
   ]
  },
  {
   "cell_type": "markdown",
   "metadata": {
    "slideshow": {
     "slide_type": "slide"
    }
   },
   "source": [
    "* In order to implement this, we need a way of drawing random samples from the normal distribution.\n",
    "* Computers are deterministic machines. They cannot generate true random numbers.\n",
    "* Instead, they construct sequences of pseudo-random numbers from a specified distribution that *look* random, in the sense that they pass certain statistical tests.\n",
    "* E.g., NumPy's `np.random.randn(d0[, d1, ...]) ` constructs an array of standard normal pseudo random numbers.\n",
    "* Random number generators use a *seed* value for initialization. Given the same seed, the same pseudo-random sequence will be returned.\n",
    "* NumPy picks the seed automatically. To force it to use a specific seed, use `np.random.seed(n)`. Putting this line at the beginning of your Monte-Carlo program ensures that you get exactly the same results every time the program is run."
   ]
  },
  {
   "cell_type": "code",
   "execution_count": 2,
   "metadata": {
    "collapsed": true,
    "slideshow": {
     "slide_type": "slide"
    }
   },
   "outputs": [],
   "source": [
    "import numpy as np\n",
    "import matplotlib.pyplot as plt\n",
    "import pandas as pd\n",
    "%matplotlib inline"
   ]
  },
  {
   "cell_type": "code",
   "execution_count": 2,
   "metadata": {
    "collapsed": true
   },
   "outputs": [],
   "source": [
    "def bmsim(T, N, X0=0, mu=0, sigma=1):\n",
    "    \"\"\"Simulate a Brownian motion path.\n",
    "    \"\"\"\n",
    "    deltaT = float(T)/N\n",
    "    tvec = np.linspace(0, T, N+1)\n",
    "    z = np.random.randn(N+1)  #N+1 is one more than we need, actually. This way we won't have to grow dX.   \n",
    "    dX = mu*deltaT + sigma*np.sqrt(deltaT)*z  #X[j+1]-X[j]=mu*deltaT + sigma*np.sqrt(deltaT)*z[j].\n",
    "    dX[0] = 0.\n",
    "    X = np.cumsum(dX)\n",
    "    X += X0    \n",
    "    return tvec, X"
   ]
  },
  {
   "cell_type": "code",
   "execution_count": 3,
   "metadata": {
    "collapsed": true
   },
   "outputs": [],
   "source": [
    "np.random.seed(0) \n",
    "tvec, W = bmsim(1, 1000)\n",
    "W = pd.Series(W, index=tvec)\n",
    "W.plot()\n",
    "plt.title('Simulated Brownian Motion Path')\n",
    "plt.xlabel(\"$t$\"); plt.ylabel(\"$W_t$\");\n",
    "plt.savefig(\"img/BMpath.svg\"); plt.close()"
   ]
  },
  {
   "cell_type": "markdown",
   "metadata": {
    "slideshow": {
     "slide_type": "slide"
    }
   },
   "source": [
    "<img src=\"img/BMpath.svg\" alt=\"Simulated Brownian Motion Path\" style=\"display:block; margin-left: auto; margin-right: auto; width: 80%;\">"
   ]
  },
  {
   "cell_type": "markdown",
   "metadata": {
    "collapsed": true,
    "slideshow": {
     "slide_type": "slide"
    }
   },
   "source": [
    "## Ito Processes\n",
    "* Ito processes generalize Brownian motion with drift by allowing the drift and volatility to be time-varying:\n",
    "$$\n",
    "\\delta X_t\\equiv X_{i+1}-X_i=\\mu_{t_i} \\delta t + \\sigma_{t_i} \\delta W_t.\n",
    "$$\n",
    "* We allow $\\mu_{t_i}$ and $\\sigma_{t_i}$ to be stochastic; e.g., they may depend on $X_t$ itself, as in \n",
    "$$\n",
    "\\delta X_t=\\mu(t_i,X_i) \\delta t + \\sigma(t_i, X_i) \\delta W_t.\n",
    "$$\n",
    "* One can show that the process has a well-defined limit as $N\\rightarrow\\infty$ (so that $\\delta t \\downarrow 0$), for which we write\n",
    "$$\n",
    "d X_t= \\mu(t,X_t) dt + \\sigma(t, X_t) d W_t.\n",
    "$$\n",
    "This is known as a stochastic differential equation (SDE).\n",
    "* If $\\sigma_t$ is stochastic, then the distribution of $X_T$ implied by the SDE is no longer normal. One can show that if $N$ is large enough, then this distribution is correctly reproduced by the discretized version (which is then known as as the *Euler approximation*)."
   ]
  },
  {
   "cell_type": "markdown",
   "metadata": {
    "slideshow": {
     "slide_type": "slide"
    }
   },
   "source": [
    "* **Example**: The process described by the SDE\n",
    "$$\n",
    "dS_t=S_t \\mu dt +S_t \\sigma dW_t\n",
    "$$\n",
    "is known as *Geometric Brownian Motion*. Its Euler approximation is\n",
    "$$\n",
    "S_{i+1}=S_i+S_i \\mu \\delta t + S_i \\sigma \\sqrt{\\delta t} Z_i.\n",
    "$$"
   ]
  },
  {
   "cell_type": "code",
   "execution_count": 4,
   "metadata": {
    "collapsed": true
   },
   "outputs": [],
   "source": [
    "def gbmsim(T, N, S0=1, mu=0, sigma=1):\n",
    "    \"\"\"Simulate a Geometric Brownian motion path.\n",
    "    \"\"\"\n",
    "    deltaT = float(T)/N\n",
    "    tvec = np.linspace(0, T, N+1)\n",
    "    z = np.random.randn(N+1)  #Again one more than we need. This keeps it comparable to bmsim.\n",
    "    S = np.zeros_like(z)\n",
    "    S[0] = S0\n",
    "    for j in xrange(0, N): #Note: we can no longer vectorize this, because S[:, j] is needed for S[:, j+1].\n",
    "        S[j+1] = S[j] + mu*S[j]*deltaT + sigma*S[j]*np.sqrt(deltaT)*z[j+1]\n",
    "    return tvec, S"
   ]
  },
  {
   "cell_type": "code",
   "execution_count": 5,
   "metadata": {
    "collapsed": true
   },
   "outputs": [],
   "source": [
    "np.random.seed(0)\n",
    "tvec, S = gbmsim(1, 1000)\n",
    "S = pd.Series(S, index=tvec)\n",
    "S.plot()\n",
    "plt.title('Simulated Geometric Brownian Motion Path')\n",
    "plt.xlabel(\"$t$\"); plt.ylabel(\"$S_t$\")\n",
    "plt.savefig(\"img/GBMpath.svg\"); plt.close()"
   ]
  },
  {
   "cell_type": "markdown",
   "metadata": {
    "slideshow": {
     "slide_type": "slide"
    }
   },
   "source": [
    "<img src=\"img/GBMpath.svg\" alt=\"Simulated GBM Path\" style=\"display:block; margin-left: auto; margin-right: auto; width: 80%;\">"
   ]
  },
  {
   "cell_type": "markdown",
   "metadata": {
    "slideshow": {
     "slide_type": "slide"
    }
   },
   "source": [
    "## Ito's Lemma\n",
    "* Ito's lemma answers the question: if $X_t$ is an Ito process with given dynamics, then what are the dynamics of a function $f(t,X_t)$?\n",
    "* It can be stated as follows: Let $\\{X_{t}\\}_{t\\ge0}$ be an Ito process satisfying $dX_{t} = \\mu_{t}dt+\\sigma_{t}dW_{t}$, and consider a function $f : \\mathbb{R}^{+} \\times \\mathbb{R} \\to \\mathbb{R}$\n",
    "with continuous partial derivatives\n",
    "$$\n",
    "\\dot{f}(t,x)=\\frac{\\partial f(t,x)}{\\partial t},\\qquad f^{\\prime }(t,x)=\\frac{\\partial f(t,x)}{\\partial x},\\qquad f^{\\prime \\prime }(t,x)=\\frac{\\partial ^{2}f(t,x)}{\\partial x^{2}}.\n",
    "$$\n",
    "Then\n",
    "$$\n",
    "df(t,X_{t})=\\dot{f}(t,X_{t})dt+f^{\\prime }(t,X_{t})dX_{t}+\\frac{1}{2}\n",
    "f^{\\prime \\prime }(t,X_{t})\\sigma _{t}^{2}dt.\n",
    "$$"
   ]
  },
  {
   "cell_type": "markdown",
   "metadata": {
    "slideshow": {
     "slide_type": "slide"
    }
   },
   "source": [
    "* **Example**: Geometric Brownian Motion. Let\n",
    "$$\n",
    "dS_t=S_t \\mu dt +S_t \\sigma dW_t\n",
    "$$\n",
    "and $X_t=f(S_t)=\\log S_t$. Then $\\dot f (S_t) = 0$, $ f' (S_t) = 1/S_t$, $f'' (S_t) = -1/S_t^2$, and\n",
    "\n",
    "\\begin{align*}\n",
    "dX_t=d f(S_t)&= \\dot f (S_t) dt +  f' (S_t)  dS_t + \\frac{1}{2} f'' (S_t) (S_t \\sigma)^2 dt\\\\\n",
    "        &= \\frac{1}{S_t}  dS_t - \\frac{1}{2S_t^2} (S_t \\sigma)^2  dt\\\\\n",
    "        &= \\frac{1}{S_t}  (S_t \\mu dt +S_t \\sigma dW_t) - \\frac{1}{2} \\sigma^2 dt\\\\\n",
    "        &=  \\nu dt + \\sigma dW_t, \\quad \\nu=\\mu-\\frac{1}{2}\\sigma^2\n",
    "\\end{align*}\n",
    "* So we find that $S_t=\\exp(X_t)=S_0\\exp(\\nu t + \\sigma W_t)$.  This gives us an alternative way to simulate GBM, which avoids the error introduced by the Euler approximation.\n",
    "* Remark: "
   ]
  },
  {
   "cell_type": "code",
   "execution_count": 6,
   "metadata": {
    "slideshow": {
     "slide_type": "slide"
    }
   },
   "outputs": [
    {
     "data": {
      "image/png": "[encoded data removed]",
      "text/plain": [
       "<matplotlib.figure.Figure at 0x7fe5aa8ce050>"
      ]
     },
     "metadata": {},
     "output_type": "display_data"
    }
   ],
   "source": [
    "N=1000  #Try changing N to 100, then 10!\n",
    "np.random.seed(0)\n",
    "tvec, S1 = gbmsim(1, N)\n",
    "np.random.seed(0)  #Use the same seed, otherwise we'd get different paths.\n",
    "tvec, X = bmsim(1, N, 0, -.5)\n",
    "S2 = np.exp(X)\n",
    "S1 = pd.Series(S1, index=tvec)\n",
    "S2 = pd.Series(S2, index=tvec)\n",
    "S1.plot()\n",
    "S2.plot(linestyle=\":\")\n",
    "plt.title(\"Euler Scheme vs. Exact\")\n",
    "plt.xlabel(\"$t$\")\n",
    "plt.ylabel(\"$S_t$\")\n",
    "plt.legend([\"Euler\", \"Exact\"]);"
   ]
  },
  {
   "cell_type": "markdown",
   "metadata": {
    "slideshow": {
     "slide_type": "slide"
    }
   },
   "source": [
    "* Intuition for Ito's lemma: (see Hull, 2012, Appendix to Ch. 13): In standard calculus, the total differential\n",
    "$$\n",
    "df=\\dot{f}(t,g(t))dt+f^{\\prime }(t,g(t))dg(t)\n",
    "$$\n",
    "is the linear part of a Taylor expansion; the remaining terms\n",
    "are of smaller order as $dt, dg(t) \\to 0$, so the total differential is a local linear approximation to $f$.\n",
    "* If $g(t)=X_t$, an Ito process, take a 2nd order Taylor approximation:\n",
    "\n",
    "\\begin{align*}\n",
    "&\\delta f\\approx \\dot{f}(t,X_{t})\\delta t+f^{\\prime\n",
    "}(t,X_{t})\\delta X_{t} \\\\\n",
    "&\\qquad \\qquad \\qquad \\qquad +\\frac{1}{2}\\left[ \\frac{\\partial ^{2}f}{%\n",
    "\\partial t^{2}}(\\delta t)^{2}+2\\frac{\\partial ^{2}f}{\\partial t\\partial X_{t}%\n",
    "}(\\delta t)(\\delta X_{t})+\\frac{\\partial ^{2}f}{\\partial X_{t}^{2}}(\\delta\n",
    "X_{t})^{2}\\right].\n",
    "\\end{align*}"
   ]
  },
  {
   "cell_type": "markdown",
   "metadata": {
    "slideshow": {
     "slide_type": "slide"
    }
   },
   "source": [
    "* We have that $\\delta X_{t}=(X_{t+\\delta t}-X_{t})\\approx \\mu_t \\delta t + \\sigma_t \\delta W_{t} \\sim N(\\mu_t \\delta t,\\sigma^2_t \\delta t)$. Thus, $\\mathbb{E} [(\\delta X_{t})^2]\\approx (\\mu_t\\delta t)^2+\\sigma^2_t\\delta t\\approx \\sigma^2_t\\delta t $; i.e., the 2nd order term is of the same order\n",
    "of magnitude as the 1st order term $\\delta t$. \n",
    "* It can be shown that as $\\delta t\\rightarrow 0$, $(\\delta X_{t})^{2}$ can be treated as non-stochastic: $(dX_{t})^{2}=\\sigma _{t}^{2}dt$.\n",
    "Together with $(dt)^{2}=0$ and $(dt)(dX_{t})=0$ this gives the result."
   ]
  },
  {
   "cell_type": "markdown",
   "metadata": {
    "slideshow": {
     "slide_type": "slide"
    }
   },
   "source": [
    "## The Black-Scholes Model"
   ]
  },
  {
   "cell_type": "markdown",
   "metadata": {},
   "source": [
    "* Black and Scholes assumed the following model:\n",
    "  * The stock $\\{S_{t}\\}_{t\\in \\lbrack 0,T]}$ follows GBM:\n",
    "$$\n",
    "dS_{t} =\\mu S_{t}dt+\\sigma S_{t}dW_{t}.\n",
    "$$\n",
    "\n",
    "  * The stock pays no dividends.\n",
    "  * Cash bond price $B_{t}=e^{rt}\\Longleftrightarrow dB_{t}=rB_{t}dt$; riskless lending and borrowing at the same rate $r$.\n",
    "  * European style derivative with price $C_{t}$ and payoff $C_{T}=(S_{T})$.\n",
    "  * Trading may occur continuously, with no transaction costs.\n",
    "  * No arbitrage opportunities.\n",
    "* The problem is to find the price $C_{t},t\\in \\lbrack 0,T]$. "
   ]
  },
  {
   "cell_type": "markdown",
   "metadata": {
    "slideshow": {
     "slide_type": "slide"
    }
   },
   "source": [
    "* It can be shown that the FTAP holds in continuous time as well: if the market is arbitrage free, then there exists a risk neutral measure $\\mathbb{Q}$ under which all assets earn the risk free rate (on average), and the price of a claim is the discounted expected payoff under $\\mathbb{Q}$. If the market is complete, then $\\mathbb{Q}$ is unique. This gives us a pricing formula for general European claims:\n",
    "$$\n",
    "C_{t}=e^{-r(T-t)}\\mathbb{E}^{\\mathbb{Q}}\\left[ \\left.\n",
    "C_{T}\\right\\vert \\mathcal{F}_{t}\\right] .\n",
    "$$\n",
    "* This implies that if we can simulate the stock price under the measure $\\mathbb{Q}$, then we can price the claim by Monte Carlo simulation."
   ]
  },
  {
   "cell_type": "markdown",
   "metadata": {
    "slideshow": {
     "slide_type": "slide"
    }
   },
   "source": [
    "* In the BS model, it can be shown that under the risk-neutral measure $\\mathbb{Q}$,\n",
    "$$\n",
    "dS_{t} =r S_{t}dt+\\sigma S_{t}dW^{\\mathbb{Q}}_{t},\n",
    "$$\n",
    "where $W^{\\mathbb{Q}}_{t}$ is a $\\mathbb{Q}$-Brownian Motion.\n",
    "* Note that by Ito's Formula, the discounted stock price $\\tilde{S}_t\\equiv e^{-rt}S_t=:f(t,S_t)$ satisfies\n",
    "\n",
    "\\begin{align*}\n",
    "d\\tilde{S}_t&= \\dot{f}(t,S_t) dt + f'(t,S_t) dS_t +\\frac{1}{2}f''(t,S_t) \\sigma^2 S_t^2 dt\\\\\n",
    "&=-re^{-rt}S_tdt+e^{-rt}dS_t+0\\\\\n",
    "&=-r\\tilde{S}_tdt+e^{-rt}(r S_{t}dt+\\sigma S_{t}dW^{\\mathbb{Q}}_{t} )\\\\\n",
    "&=\\sigma \\tilde{S}_{t}dW^{\\mathbb{Q}}_{t}.\n",
    "\\end{align*}\n",
    "* I.e., $\\tilde{S}_t$ is an Ito process without drift, and thus a martingale. This is the reason that $\\mathbb{Q}$ is also called the equivalent martingale measure."
   ]
  },
  {
   "cell_type": "markdown",
   "metadata": {
    "slideshow": {
     "slide_type": "slide"
    }
   },
   "source": [
    "* We can extend the BS model by assuming that the underlying pays a continuous dividend at rate $\\delta $ (realistic only for indices, not individual stocks). Then a position of 1 share generates an instantaneous dividend stream $\\delta S_{t}dt$, in addition to the capital gains $dS_{t}$.\n",
    "* Note that only the holder of the underlying receives the dividend.\n",
    "* The pricing formula remains the same, but now the risk-neutral dynamics of $S_{t}$ are\n",
    "$$\n",
    "dS_{t}=(r-\\delta )S_{t}dt+\\sigma S_{t}dW^\\mathbb{Q}_{t}.\n",
    "$$\n",
    "* The expected growth rate of the underlying under $\\mathbb{Q}$ is $r-\\delta $, so the expected return from holding it (capital gains plus dividend yield) is $r$.\n",
    "* The price of a call is now\n",
    "$$\n",
    "C_{t}=e^{-\\delta (T-t)}S_{t}\\Phi (d_{1})-e^{-r(T-t)}K\\Phi (d_{2}),\n",
    "$$\n",
    "where\n",
    "$$\n",
    "d_{1,2}=\\frac{\\log (S_{t}/K)+[(r-\\delta )\\pm \\frac{1}{2}\\sigma ^{2}](T-t)}{\\sigma \\sqrt{T-t}}.\n",
    "$$"
   ]
  },
  {
   "cell_type": "markdown",
   "metadata": {
    "slideshow": {
     "slide_type": "slide"
    }
   },
   "source": [
    "## Monte Carlo Pricing\n",
    "* The goal in Monte Carlo simulation is to obtain an estimate of\n",
    "$$\n",
    "\\theta\\equiv \\mathbb{E}[X],\n",
    "$$\n",
    "for some random variable $X$ with finite expectation. The assumption is that we have a means of sampling from the distribution of $X$, but no closed-form expression for $\\theta$. \n",
    "* Suppose we have a sample $\\{X_i\\}_{i\\in\\{1,\\ldots,n\\}}$ of *independent* draws for $X$, and let\n",
    "$$\n",
    "\\bar{X}_n=\\frac{1}{n}\\sum_{i=1}^n X_i.\n",
    "$$\n",
    "* The sample average $\\bar{X}_n$ is an *unbiased estimator* of $\\theta$ : $\\mathbb{E}[\\bar{X}_n]=\\theta$.\n",
    "* The *weak law of large numbers* states that\n",
    "$$\n",
    "\\bar{X}_n\\stackrel p \\rightarrow \\theta,\n",
    "$$\n",
    "where the arrow denotes *convergence in probability*; i.e., as the sample size grows, the $\\bar X_n$ becomes a better and better estimate of $\\theta$."
   ]
  },
  {
   "cell_type": "markdown",
   "metadata": {
    "slideshow": {
     "slide_type": "slide"
    }
   },
   "source": [
    "* Thus, our strategy is to use a computer to draw $n$ (pseudo) random numbers $X_i$ from the distribution of $X$, and then estimate $\\theta$ as the sample mean of the $X_i$.\n",
    "* $n$ is called the number of *replications*.\n",
    "* For finite $n$, the sample average will be an approximation to $\\theta$. \n",
    "* It is usually desirable to have an estimate of the accuracy of this approximation. Such an estimate can be obtained from the *central limit theorem* (CLT), which states that\n",
    "$$\n",
    "\\sqrt{n}(\\bar{X}_n-\\theta)\\stackrel d\\rightarrow N\\left(0,\\sigma^2\\right),\n",
    "$$\n",
    "provided that $\\sigma^2$, the variance of $X$, is finite. The arrow denotes convergence in distribution; this implies that for large $n$, $\\bar{X}_n$ has approximately a normal distribution.\n",
    "* Of course $\\sigma^2$ is unknown, but we can estimate it as\n",
    "$$\n",
    "\\hat{\\sigma}^2=\\frac{1}{n}\\sum_{i=1}^n \\left(\\bar{X}_n-X_i\\right)^2.\n",
    "$$"
   ]
  },
  {
   "cell_type": "markdown",
   "metadata": {
    "slideshow": {
     "slide_type": "slide"
    }
   },
   "source": [
    "* A 95% *confidence interval* (CI) is an interval $[c_l,c_u]$ such that\n",
    "\n",
    "$$\n",
    "\\mathbb{P}[c_l\\leq \\theta \\leq c_u]=0.95.\n",
    "$$\n",
    "* The CLT implies that, in the limit as $n\\rightarrow\\infty$,\n",
    "\\begin{align*}\n",
    "\\mathbb{P}[-1.96 \\sigma\\leq \\sqrt{n}(\\bar{X}_n-\\theta)\\leq 1.96 \\sigma ]&=0.95\\Leftrightarrow\\\\\n",
    "\\mathbb{P}[\\bar{X}_n-1.96 \\frac{\\sigma}{\\sqrt{n}}\\leq \\theta\\leq \\bar{X}_n+1.96 \\frac{\\sigma}{\\sqrt{n}} ]&=0.95.\n",
    "\\end{align*}\n",
    "Hence $c_l=\\bar{X}_n-1.96 \\frac{\\sigma}{\\sqrt{n}}$ and $c_u=\\bar{X}_n+1.96 \\frac{\\sigma}{\\sqrt{n}}$ is an asymptotically valid CI.\n",
    "* Note that $c_l$ and $c_u$ are random variables; we should interpret this as \"before the experiment is performed, there is a 95% chance that a CI computed according to this formula will contain $\\theta$\". After performing the experiment, this statement is not valid anymore; the interval is now fixed, and contains $\\theta$ with probability either 0 or 1.\n",
    "* The unknown parameter $\\sigma$ can be consistently estimated by $\\sqrt{\\hat{\\sigma}^2}$."
   ]
  },
  {
   "cell_type": "markdown",
   "metadata": {
    "slideshow": {
     "slide_type": "slide"
    }
   },
   "source": [
    "## Application: Asian Options\n",
    "* The payoff of Asian options depends on the *average* price of the underlying, $\\bar{S}_T$. Types:\n",
    "  * Average price Asian call with payoff $(\\bar{S}_T-K)^+$;\n",
    "  * Average price Asian put with payoff $(K-\\bar{S}_T)^+$;\n",
    "  * Average strike Asian call with payoff $(S_T-\\bar{S}_T)^+$;\n",
    "  * Average strike Asian put with payoff $(\\bar{S}_T-S_T)^+$.\n",
    "* It is important to specify how the average is computed: the continuous,  arithmetic, and geometric averages are, respectively,\n",
    "$$\n",
    "\\frac{1}{T}\\int_0^T S_t dt,\\qquad\n",
    "\\frac{1}{N}\\sum_{i=1}^N S_{t_i}\\qquad\\mbox{and}\\qquad\\left(\\prod_{i=1}^N S_{t_i}\\right)^{1/N},\n",
    "$$\n",
    "where the $t_i$ are a set of $N$ specified dates."
   ]
  },
  {
   "cell_type": "markdown",
   "metadata": {
    "slideshow": {
     "slide_type": "slide"
    }
   },
   "source": [
    "* Exact Black-Scholes type pricing formulas for Asian options only exist in special cases (e.g., the geometric average Asian call, see next week), so we rely on Monte Carlo simulation.\n",
    "* Our pricing formula\n",
    "$$\n",
    "C_{t}=e^{-r(T-t)}\\mathbb{E}^{\\mathbb{Q}}\\left[ \\left.\n",
    "C_{T}\\right\\vert \\mathcal{F}_{t}\\right] \n",
    "$$\n",
    "is exactly in the required form.\n",
    "* As an example, consider pricing an arithmetic average price call with payoff\n",
    "$$\n",
    "C_T=(\\bar{S}_T-K)^+,\\quad\\mbox{where}\\quad \\bar{S}_T=\\frac{1}{N}\\sum_{i=1}^N S_{t_i},\n",
    "$$\n",
    "which cannot be priced analytically.\n",
    "* The payoff is path-dependent, so we need to simulate the entire asset price path, not just $S_T$."
   ]
  },
  {
   "cell_type": "code",
   "execution_count": 7,
   "metadata": {
    "collapsed": true,
    "slideshow": {
     "slide_type": "slide"
    }
   },
   "outputs": [],
   "source": [
    "from scipy.stats import norm\n",
    "def asianmc(S0, K, T, r, sigma, delta, N, numsim=10000):\n",
    "    \"\"\"Monte Carlo price of an arithmetic average Asian call.\n",
    "    \"\"\"\n",
    "    X0 = np.log(S0)\n",
    "    nu = r-delta-.5*sigma**2\n",
    "    payoffs = np.zeros(numsim)\n",
    "    for j in xrange(numsim):\n",
    "        _, X = bmsim(T, N, X0, nu, sigma)  #Convention: underscore holds value to be discarded.\n",
    "        S = np.exp(X)\n",
    "        payoffs[j] = max(S[1:].mean()-K, 0.)\n",
    "    g = np.exp(-r*T)*payoffs\n",
    "    C = g.mean(); s = g.std()\n",
    "    zq = norm.ppf(0.975)\n",
    "    Cl = C-zq/np.sqrt(numsim)*s\n",
    "    Cu = C+zq/np.sqrt(numsim)*s\n",
    "    return C, Cl, Cu"
   ]
  },
  {
   "cell_type": "code",
   "execution_count": 8,
   "metadata": {},
   "outputs": [
    {
     "data": {
      "text/plain": [
       "(1.0927262054551385, 1.0747653929130998, 1.1106870179971773)"
      ]
     },
     "execution_count": 8,
     "metadata": {},
     "output_type": "execute_result"
    }
   ],
   "source": [
    "S0 = 11; K = 10; T = 3/12.; r = 0.02; sigma = .3; delta = 0.01; N = 10\n",
    "np.random.seed(0)\n",
    "C0, Cl, Cu = asianmc(S0, K, T, r, sigma, delta, N); C0, Cl, Cu"
   ]
  },
  {
   "cell_type": "markdown",
   "metadata": {
    "slideshow": {
     "slide_type": "slide"
    }
   },
   "source": [
    "## Code Optimization\n",
    "* Our code for pricing the Asian option is likely inefficient, because it contains a loop.\n",
    "* The code can be 'vectorized' to speed it up. \n",
    "* First step: simulate a bunch of Brownian paths in one shot.\n",
    "* The resulting code is actually almost identical:"
   ]
  },
  {
   "cell_type": "code",
   "execution_count": 9,
   "metadata": {
    "collapsed": true,
    "slideshow": {
     "slide_type": "slide"
    }
   },
   "outputs": [],
   "source": [
    "def bmsim_vec(T, N, X0=0, mu=0, sigma=1, numsim=1):  #Note new input: numsim, the number of paths.\n",
    "    \"\"\"Simulate `numsim` Brownian motion paths.\n",
    "    \"\"\"\n",
    "    deltaT = float(T)/N\n",
    "    tvec = np.linspace(0, T, N+1)\n",
    "    z = np.random.randn(numsim, N+1)  #(N+1)->(numsim, N+1)\n",
    "    dX = mu*deltaT + sigma*np.sqrt(deltaT)*z\n",
    "    dX[:, 0] = 0.  #dX[0]->dX[:, 0]\n",
    "    X = np.cumsum(dX, axis=1)  #cumsum(dX)->cumsum(dX, axis=1)\n",
    "    X += X0    \n",
    "    return tvec, X"
   ]
  },
  {
   "cell_type": "code",
   "execution_count": 10,
   "metadata": {
    "collapsed": true
   },
   "outputs": [],
   "source": [
    "np.random.seed(0) \n",
    "tvec, W = bmsim_vec(1, 1000, numsim=3)\n",
    "W = pd.DataFrame(W.transpose(), index=tvec)\n",
    "W.plot().legend().remove()\n",
    "plt.title('Simulated Brownian Motion Paths')\n",
    "plt.xlabel(\"$t$\"); plt.ylabel(\"$W_t$\");\n",
    "plt.savefig(\"img/BMpaths.svg\"); plt.close()"
   ]
  },
  {
   "cell_type": "markdown",
   "metadata": {
    "slideshow": {
     "slide_type": "slide"
    }
   },
   "source": [
    "<img src=\"img/BMpaths.svg\" alt=\"Simulated Brownian Motion Paths\" style=\"display:block; margin-left: auto; margin-right: auto; width: 80%;\">"
   ]
  },
  {
   "cell_type": "markdown",
   "metadata": {
    "slideshow": {
     "slide_type": "slide"
    }
   },
   "source": [
    "* Here is the vectorized code for the Asian option:"
   ]
  },
  {
   "cell_type": "code",
   "execution_count": 11,
   "metadata": {
    "collapsed": true,
    "slideshow": {
     "slide_type": "-"
    }
   },
   "outputs": [],
   "source": [
    "def asianmc_vec(S0, K, T, r, sigma, delta, N, numsim=10000):\n",
    "    \"\"\"Monte Carlo price of an arithmetic average Asian call.\n",
    "    \"\"\"\n",
    "    X0 = np.log(S0)\n",
    "    nu = r-delta-.5*sigma**2    \n",
    "    #simulate all paths at once:\n",
    "    _, X = bmsim_vec(T, N, X0, nu, sigma, numsim)\n",
    "    S = np.exp(X)\n",
    "    payoffs = np.maximum(S[:, 1:].mean(axis=1)-K, 0.)  #S[1:]->S[:, 1:], max->maximum, mean()->mean(axis=1)\n",
    "    g = np.exp(-r*T)*payoffs\n",
    "    C = g.mean(); s = g.std()\n",
    "    zq = norm.ppf(0.975)\n",
    "    Cl = C - zq/np.sqrt(numsim)*s\n",
    "    Cu = C + zq/np.sqrt(numsim)*s\n",
    "    return C, Cl, Cu"
   ]
  },
  {
   "cell_type": "markdown",
   "metadata": {
    "slideshow": {
     "slide_type": "slide"
    }
   },
   "source": [
    "* Let's see if it works:"
   ]
  },
  {
   "cell_type": "code",
   "execution_count": 12,
   "metadata": {},
   "outputs": [
    {
     "data": {
      "text/plain": [
       "True"
      ]
     },
     "execution_count": 12,
     "metadata": {},
     "output_type": "execute_result"
    }
   ],
   "source": [
    "np.random.seed(0)\n",
    "C0_vec, _, _ = asianmc_vec(S0, K, T, r, sigma, delta, N)\n",
    "np.allclose(C0_vec, C0)"
   ]
  },
  {
   "cell_type": "markdown",
   "metadata": {
    "slideshow": {
     "slide_type": "-"
    }
   },
   "source": [
    "* And time it:"
   ]
  },
  {
   "cell_type": "code",
   "execution_count": 13,
   "metadata": {},
   "outputs": [
    {
     "name": "stdout",
     "output_type": "stream",
     "text": [
      "1 loop, best of 3: 371 ms per loop\n"
     ]
    }
   ],
   "source": [
    "%timeit asianmc(S0, K, T, r, sigma, delta, N)"
   ]
  },
  {
   "cell_type": "code",
   "execution_count": 14,
   "metadata": {},
   "outputs": [
    {
     "name": "stdout",
     "output_type": "stream",
     "text": [
      "100 loops, best of 3: 6.05 ms per loop\n"
     ]
    }
   ],
   "source": [
    "%timeit asianmc_vec(S0, K, T, r, sigma, delta, N)"
   ]
  },
  {
   "cell_type": "markdown",
   "metadata": {
    "slideshow": {
     "slide_type": "slide"
    }
   },
   "source": [
    "* Our code for the Euler scheme can likewise be adjusted to compute many paths in one shot. \n",
    "* We're still stuck with the loop over $t$ though, which cannot be vectorized because $S_{i+1}$ depends on $S_i$.\n",
    "* We'll use Numba's JIT compiler to speed it up further."
   ]
  },
  {
   "cell_type": "code",
   "execution_count": 15,
   "metadata": {
    "collapsed": true,
    "slideshow": {
     "slide_type": "slide"
    }
   },
   "outputs": [],
   "source": [
    "from numba import jit\n",
    "@jit(nopython=True)\n",
    "def gbmsim_vec(T, N, S0=1, mu=0, sigma=1, numsim=1, seed=0):\n",
    "    \"\"\"Simulate `numsim` Geometric Brownian motion paths.\n",
    "    \"\"\"\n",
    "    deltaT = float(T)/N\n",
    "    tvec = np.linspace(0, T, N+1)\n",
    "    np.random.seed(seed)  #Note: with jit-compiled functions, the RNG must be seeded INSIDE the compiled code.\n",
    "    z = np.random.randn(numsim, N+1)\n",
    "    S = np.zeros_like(z)\n",
    "    S[:, 0] = S0\n",
    "    for j in xrange(0, N):\n",
    "        S[:, j+1]=S[:, j] + mu*S[:, j]*deltaT + sigma*S[:, j]*np.sqrt(deltaT)*z[:, j+1]\n",
    "    return tvec, S"
   ]
  },
  {
   "cell_type": "code",
   "execution_count": 16,
   "metadata": {
    "collapsed": true
   },
   "outputs": [],
   "source": [
    "tvec, S = gbmsim_vec(1, 1000, numsim=3, seed=0)\n",
    "S = pd.DataFrame(S.transpose(), index=tvec)\n",
    "S.plot().legend().remove()\n",
    "plt.title('Simulated Geometric Brownian Motion Paths')\n",
    "plt.xlabel(\"$t$\"); plt.ylabel(\"$S_t$\")\n",
    "plt.savefig(\"img/GBMpaths.svg\"); plt.close()"
   ]
  },
  {
   "cell_type": "markdown",
   "metadata": {
    "slideshow": {
     "slide_type": "slide"
    }
   },
   "source": [
    "<img src=\"img/GBMpaths.svg\" alt=\"Simulated Geometric Brownian Motion Paths\" style=\"display:block; margin-left: auto; margin-right: auto; width: 80%;\">"
   ]
  },
  {
   "cell_type": "markdown",
   "metadata": {
    "slideshow": {
     "slide_type": "slide"
    }
   },
   "source": [
    "* The compiled code produces the same results:"
   ]
  },
  {
   "cell_type": "code",
   "execution_count": 17,
   "metadata": {},
   "outputs": [
    {
     "data": {
      "text/plain": [
       "True"
      ]
     },
     "execution_count": 17,
     "metadata": {},
     "output_type": "execute_result"
    }
   ],
   "source": [
    "np.random.seed(0)\n",
    "_, S1 = gbmsim(1, 1000)\n",
    "_, S2 = gbmsim_vec(1, 1000, seed=0)\n",
    "np.allclose(S1, S2)"
   ]
  },
  {
   "cell_type": "markdown",
   "metadata": {},
   "source": [
    "* But it is quite a bit faster:"
   ]
  },
  {
   "cell_type": "code",
   "execution_count": 18,
   "metadata": {},
   "outputs": [
    {
     "name": "stdout",
     "output_type": "stream",
     "text": [
      "10 loops, best of 3: 22.9 ms per loop\n"
     ]
    }
   ],
   "source": [
    "%%timeit #Cell magic (for timing the entire cell).\n",
    "for k in xrange(10):  #10 paths.\n",
    "    gbmsim(1, 1000)"
   ]
  },
  {
   "cell_type": "code",
   "execution_count": 19,
   "metadata": {},
   "outputs": [
    {
     "name": "stdout",
     "output_type": "stream",
     "text": [
      "The slowest run took 545.83 times longer than the fastest. This could mean that an intermediate result is being cached.\n",
      "1 loop, best of 3: 570 µs per loop\n"
     ]
    }
   ],
   "source": [
    "%timeit gbmsim_vec(1, 1000, numsim=10)"
   ]
  }
 ],
 "metadata": {
  "celltoolbar": "Slideshow",
  "kernelspec": {
   "display_name": "Python 2",
   "language": "python",
   "name": "python2"
  },
  "language_info": {
   "codemirror_mode": {
    "name": "ipython",
    "version": 2
   },
   "file_extension": ".py",
   "mimetype": "text/x-python",
   "name": "python",
   "nbconvert_exporter": "python",
   "pygments_lexer": "ipython2",
   "version": "2.7.14"
  },
  "livereveal": {
   "start_slideshow_at": "selected"
  }
 },
 "nbformat": 4,
 "nbformat_minor": 2
}
